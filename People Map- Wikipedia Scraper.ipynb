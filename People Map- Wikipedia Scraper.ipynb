{
 "cells": [
  {
   "cell_type": "markdown",
   "metadata": {},
   "source": [
    "---\n",
    "title: \"People Map of India: Part 1 (Scraper)\"\n",
    "---\n",
    "I was going through [The Pudding](https://pudding.cool/) yesterday and came across their [\"People Map of the UK\"](https://pudding.cool/2019/06/people-map-uk/) and [\"People Map of the US](https://pudding.cool/2019/05/people-map/) posts. These seemed pretty cool and since I've been trying to pick up making visualizations using JavaScript, I thought this was the perfect thing to attempt to replicate. So I decided to do the same for India.  \n",
    "  \n",
    "Before getting to the visualization, there is data collection so I decided to follow their methodology of using the \"People by City\" listings on Wikipedia. However. these lists aren't exhaustive and there are some more links but for the sake of brevity I decided not to try and scrape those. Those were a bit too hard to scrape, I've left the link to the collection of those pages, let me know if you see a good way to scrape the names from those pages!\n",
    "\n",
    "###  Importing Dependencies"
   ]
  },
  {
   "cell_type": "code",
   "execution_count": 1,
   "metadata": {},
   "outputs": [],
   "source": [
    "import requests\n",
    "import pandas as pd\n",
    "import bs4\n",
    "import wikipedia\n",
    "from time import sleep\n",
    "import pageviewapi.period\n",
    "from tqdm import tqdm"
   ]
  },
  {
   "cell_type": "markdown",
   "metadata": {},
   "source": [
    "### Retry function\n",
    "Let's define a function that puts the script to sleep for exponentially incrementing timesteps so as to make sure we don't get a \"Too Many Requests\" error."
   ]
  },
  {
   "cell_type": "code",
   "execution_count": 2,
   "metadata": {},
   "outputs": [],
   "source": [
    "def retrieve(url):\n",
    "    page = ''\n",
    "    l = 0\n",
    "    while page == '':\n",
    "        try:\n",
    "            page = requests.get(url)\n",
    "            break\n",
    "        except:\n",
    "        #    print(\"Connection refused by the server..Let me sleep for\", pow(2,l), \"seconds\")\n",
    "            sleep(pow(2,l))\n",
    "         #   print(\"Was a nice sleep, now let me continue...\")\n",
    "            continue\n",
    "    return page"
   ]
  },
  {
   "cell_type": "markdown",
   "metadata": {},
   "source": [
    "### Define Number of Views function\n",
    "I used the pageview API in python to collect the total views over the past five years. Again, I put in an exponentially incrementing sleep function in case we get an error for making too many calls."
   ]
  },
  {
   "cell_type": "code",
   "execution_count": 3,
   "metadata": {},
   "outputs": [],
   "source": [
    "def viewj(person):\n",
    "    r = ''\n",
    "    l = 0\n",
    "\n",
    "    while r == '':\n",
    "        try:\n",
    "            r = pageviewapi.period.sum_last('en.wikipedia', person, last = 365*5,\n",
    "                        access='all-access', agent='all-agents')\n",
    "            break\n",
    "        except:\n",
    "            print(\"Let me sleep for\", pow(2,l), \"seconds\")\n",
    "            print(\"ZZzzzz...\")\n",
    "            sleep(pow(2,l))\n",
    "            l+=1\n",
    "            if l > 10:\n",
    "                r = 0\n",
    "                print(person, \"views error\")\n",
    "                break\n",
    "      #      print(\"Was a nice sleep, now let me continue...\")\n",
    "            continue\n",
    "        \n",
    "    return r\n",
    "            "
   ]
  },
  {
   "cell_type": "markdown",
   "metadata": {},
   "source": [
    "### Scraping From Wikipedia\n"
   ]
  },
  {
   "cell_type": "code",
   "execution_count": 4,
   "metadata": {},
   "outputs": [],
   "source": [
    "central_url = \"https://en.wikipedia.org/wiki/Category:People_by_city_in_India\"\n",
    "s = requests.get(central_url)\n",
    "data = pd.DataFrame(columns = ['City', \"Person\", 'Number of Views', 'Description', 'link'])\n",
    "soup = bs4.BeautifulSoup(s.content, 'lxml')\n",
    "raw = soup.find_all('div', {'class':\"mw-category-group\"})\n",
    "c = []\n",
    "p = []\n",
    "v = []\n",
    "d = []\n",
    "miss = []\n",
    "err = []\n",
    "li = []"
   ]
  },
  {
   "cell_type": "code",
   "execution_count": null,
   "metadata": {},
   "outputs": [
    {
     "name": "stderr",
     "output_type": "stream",
     "text": [
      "  0%|                                                                                           | 0/13 [00:00<?, ?it/s]"
     ]
    },
    {
     "name": "stdout",
     "output_type": "stream",
     "text": [
      "Let me sleep for 1 seconds\n",
      "ZZzzzz...\n",
      "Let me sleep for 1 seconds\n",
      "ZZzzzz...\n",
      "Let me sleep for 1 seconds\n",
      "ZZzzzz...\n",
      "Let me sleep for 1 seconds\n",
      "ZZzzzz...\n",
      "Let me sleep for 1 seconds\n",
      "ZZzzzz...\n"
     ]
    },
    {
     "name": "stderr",
     "output_type": "stream",
     "text": [
      "  8%|██████▏                                                                         | 1/13 [11:47<2:21:27, 707.29s/it]"
     ]
    },
    {
     "name": "stdout",
     "output_type": "stream",
     "text": [
      "Let me sleep for 1 seconds\n",
      "ZZzzzz...\n"
     ]
    },
    {
     "name": "stderr",
     "output_type": "stream",
     "text": [
      " 38%|███████████████████████████████▌                                                  | 5/13 [34:13<48:02, 360.32s/it]"
     ]
    }
   ],
   "source": [
    "for i in tqdm(range(2,len(raw))): #First two links are redirects to other categorizaations\n",
    "                    #We basicallu just want to deal with the letters\n",
    "        l = raw[i].find_all('a') #Get links within the letter categories\n",
    "        for j in l:\n",
    "            categ_link = \"https://en.wikipedia.org\"+j['href']       #Get link\n",
    "            city = j['title'][21:] #Get rid of the \"Category: People from \" bit\n",
    "            t = retrieve(categ_link)\n",
    "            tsoup = bs4.BeautifulSoup(t.content, 'lxml')\n",
    "            try:\n",
    "                r = tsoup.find_all('div', {'class':\"mw-category-group\"})\n",
    "                select = r[0].find('a')['title']\n",
    "                max_v = viewj(select)\n",
    "\n",
    "                for k in r:\n",
    "                    person = k.find('a')['title']\n",
    "                    if viewj(person) > max_v:\n",
    "                        select = person\n",
    "                        max_v = viewj(person)\n",
    "                        people_link = \"https://en.wikipedia.org\"+k.find('a')['href']\n",
    "                        try:\n",
    "                            description = wikipedia.summary(select, sentences = 3)\n",
    "                        except:\n",
    "                            description = \"Error\"\n",
    "                \n",
    "                miss.append(select)\n",
    "                views = viewj(select)\n",
    "                c.append(city)\n",
    "                v.append(max_v)\n",
    "                p.append(select)\n",
    "                d.append(description)\n",
    "                li.append(people_link)\n",
    "                #print(city, person, views)\n",
    "            except:\n",
    "                r = tsoup.find_all('div', {'class':\"mw-content-ltr\"})\n",
    "                r = r[len(r)-1].find_all('a')\n",
    "                select = r[0]['title']\n",
    "                max_v = 0\n",
    "\n",
    "                for k in r:\n",
    "                    person = k['title']\n",
    "                    if viewj(person) > max_v:\n",
    "                        select = person\n",
    "                        max_v = viewj(person)\n",
    "                        people_link = \"https://en.wikipedia.org\"+k['href']\n",
    "                        views = viewj(select)\n",
    "                        try:\n",
    "                            description = wikipedia.summary(select)\n",
    "                        except:\n",
    "                            description = \"Error\"\n",
    "                miss.append(select)\n",
    "                views = viewj(select)\n",
    "                c.append(city)\n",
    "                v.append(max_v)\n",
    "                p.append(select)\n",
    "                d.append(description)\n",
    "                li.append(people_link)\n",
    "\n",
    "               # print(city, person, views)\n",
    "sleep(120)              \n",
    "                \n",
    "                "
   ]
  },
  {
   "cell_type": "code",
   "execution_count": null,
   "metadata": {},
   "outputs": [],
   "source": [
    "data['City'] = c\n",
    "data['Person'] = p\n",
    "data['Number of Views'] = v\n",
    "data['Description'] = d\n",
    "data['link'] = li\n",
    "data.head()"
   ]
  },
  {
   "cell_type": "markdown",
   "metadata": {},
   "source": [
    "There seem to be something weird with certain cells having values from the row above them for Description and Links. Let's just fix them since rerunning the code will take too damn long. This way if a person is associated with two cities, their entries won't be deleted."
   ]
  },
  {
   "cell_type": "code",
   "execution_count": 62,
   "metadata": {},
   "outputs": [],
   "source": [
    "y = []\n",
    "for i in range(len(data.duplicated(subset ='Description'))):\n",
    "    if(data.duplicated(subset ='Description')[i]==True):\n",
    "        y.append(i)\n",
    "for i,j in data.iterrows():\n",
    "    if i in y:\n",
    "        data.at[i, \"Description\"] = wikipedia.summary(j[1])\n",
    "        data.at[i, \"link\"]= wikipedia.page(j[1]).url"
   ]
  },
  {
   "cell_type": "markdown",
   "metadata": {},
   "source": [
    "### Scraping Left\n",
    "The following link is to a page which has a list of 30 more pages which have lists of people from specific cities. Some are common with those extracted above and some aren't. I couldn't figure out a nice and automated way of scraping them so I'm not doing this for now. Perhaps some other time when I feel like it."
   ]
  },
  {
   "cell_type": "code",
   "execution_count": null,
   "metadata": {},
   "outputs": [],
   "source": [
    "link = \"https://en.wikipedia.org/wiki/Category:Lists_of_people_by_city_in_India\"\n"
   ]
  },
  {
   "cell_type": "markdown",
   "metadata": {},
   "source": [
    "### City Coordinates\n",
    "Now, let's get coordinates for each of the cities using the geopy module."
   ]
  },
  {
   "cell_type": "code",
   "execution_count": null,
   "metadata": {},
   "outputs": [],
   "source": [
    "### import geopy as gp\n",
    "lats = []\n",
    "longs = []\n",
    "locator = gp.Nominatim(user_agent=\"apoorv\")\n",
    "from geopy.extra.rate_limiter import RateLimiter\n",
    "geocode = RateLimiter(locator.geocode, min_delay_seconds=1)\n",
    "from tqdm import tqdm\n",
    "data['location'] = data['City'].apply(geocode)\n",
    "\n",
    "data['point'] = data['location'].apply(lambda loc: tuple(loc.point) if loc else None)\n",
    "# 4 - split point column into latitude, longitude and altitude columns\n",
    "data[['latitude', 'longitude', 'altitude']] = pd.DataFrame(data['point'].tolist(), index=data.index)"
   ]
  },
  {
   "cell_type": "markdown",
   "metadata": {},
   "source": [
    "Let's see what we got."
   ]
  },
  {
   "cell_type": "code",
   "execution_count": 83,
   "metadata": {},
   "outputs": [
    {
     "data": {
      "text/html": [
       "<div>\n",
       "<style scoped>\n",
       "    .dataframe tbody tr th:only-of-type {\n",
       "        vertical-align: middle;\n",
       "    }\n",
       "\n",
       "    .dataframe tbody tr th {\n",
       "        vertical-align: top;\n",
       "    }\n",
       "\n",
       "    .dataframe thead th {\n",
       "        text-align: right;\n",
       "    }\n",
       "</style>\n",
       "<table border=\"1\" class=\"dataframe\">\n",
       "  <thead>\n",
       "    <tr style=\"text-align: right;\">\n",
       "      <th></th>\n",
       "      <th>City</th>\n",
       "      <th>Person</th>\n",
       "      <th>Number of Views</th>\n",
       "      <th>Description</th>\n",
       "      <th>link</th>\n",
       "      <th>location</th>\n",
       "      <th>point</th>\n",
       "      <th>latitude</th>\n",
       "      <th>longitude</th>\n",
       "      <th>altitude</th>\n",
       "    </tr>\n",
       "  </thead>\n",
       "  <tbody>\n",
       "    <tr>\n",
       "      <th>0</th>\n",
       "      <td>Agartala</td>\n",
       "      <td>Dipa Karmakar</td>\n",
       "      <td>1345973</td>\n",
       "      <td>Dipa Karmakar (born 9 August 1993) is an India...</td>\n",
       "      <td>https://en.wikipedia.org/wiki/Dipa_Karmakar</td>\n",
       "      <td>(Agartala, Mohanpur, West Tripura, Tripura, 79...</td>\n",
       "      <td>(23.8312377, 91.2823821, 0.0)</td>\n",
       "      <td>23.831238</td>\n",
       "      <td>91.282382</td>\n",
       "      <td>0.0</td>\n",
       "    </tr>\n",
       "    <tr>\n",
       "      <th>1</th>\n",
       "      <td>Agra</td>\n",
       "      <td>Mumtaz Mahal</td>\n",
       "      <td>2758109</td>\n",
       "      <td>Mumtaz Mahal (Persian: ممتاز محل [mumˈt̪aːz mɛ...</td>\n",
       "      <td>https://en.wikipedia.org/wiki/Mumtaz_Mahal</td>\n",
       "      <td>(Agra, Uttar Pradesh, 280001, India, (27.17525...</td>\n",
       "      <td>(27.1752554, 78.0098161, 0.0)</td>\n",
       "      <td>27.175255</td>\n",
       "      <td>78.009816</td>\n",
       "      <td>0.0</td>\n",
       "    </tr>\n",
       "    <tr>\n",
       "      <th>2</th>\n",
       "      <td>Ahmedabad</td>\n",
       "      <td>Abdul Latif (criminal)</td>\n",
       "      <td>2087052</td>\n",
       "      <td>Abdul Latif was an underworld figure in Gujara...</td>\n",
       "      <td>https://en.wikipedia.org/wiki/Abdul_Latif_(cri...</td>\n",
       "      <td>(Ahmedabad, Ahmadabad City Taluka, Ahmedabad D...</td>\n",
       "      <td>(23.0216238, 72.5797068, 0.0)</td>\n",
       "      <td>23.021624</td>\n",
       "      <td>72.579707</td>\n",
       "      <td>0.0</td>\n",
       "    </tr>\n",
       "    <tr>\n",
       "      <th>3</th>\n",
       "      <td>Ahmednagar</td>\n",
       "      <td>Sadashiv Amrapurkar</td>\n",
       "      <td>925429</td>\n",
       "      <td>Sadashiv Dattaray Amrapurkar (11 May 1950 – 3 ...</td>\n",
       "      <td>https://en.wikipedia.org/wiki/Sadashiv_Amrapurkar</td>\n",
       "      <td>(Ahmednagar, Maharashtra, India, (19.162772500...</td>\n",
       "      <td>(19.162772500000003, 74.85802430085195, 0.0)</td>\n",
       "      <td>19.162773</td>\n",
       "      <td>74.858024</td>\n",
       "      <td>0.0</td>\n",
       "    </tr>\n",
       "    <tr>\n",
       "      <th>4</th>\n",
       "      <td>Aizawl</td>\n",
       "      <td>Zohmingliana Ralte</td>\n",
       "      <td>24268</td>\n",
       "      <td>Zohmingliana Ralte (born 2 October 1990) is an...</td>\n",
       "      <td>https://en.wikipedia.org/wiki/Zohmingliana_Ralte</td>\n",
       "      <td>(Aizawl, Tlangnuam, Aizwal, Mizoram, 796190, I...</td>\n",
       "      <td>(23.7414092, 92.7209297, 0.0)</td>\n",
       "      <td>23.741409</td>\n",
       "      <td>92.720930</td>\n",
       "      <td>0.0</td>\n",
       "    </tr>\n",
       "  </tbody>\n",
       "</table>\n",
       "</div>"
      ],
      "text/plain": [
       "         City                  Person  Number of Views  \\\n",
       "0    Agartala           Dipa Karmakar          1345973   \n",
       "1        Agra            Mumtaz Mahal          2758109   \n",
       "2   Ahmedabad  Abdul Latif (criminal)          2087052   \n",
       "3  Ahmednagar     Sadashiv Amrapurkar           925429   \n",
       "4      Aizawl      Zohmingliana Ralte            24268   \n",
       "\n",
       "                                         Description  \\\n",
       "0  Dipa Karmakar (born 9 August 1993) is an India...   \n",
       "1  Mumtaz Mahal (Persian: ممتاز محل [mumˈt̪aːz mɛ...   \n",
       "2  Abdul Latif was an underworld figure in Gujara...   \n",
       "3  Sadashiv Dattaray Amrapurkar (11 May 1950 – 3 ...   \n",
       "4  Zohmingliana Ralte (born 2 October 1990) is an...   \n",
       "\n",
       "                                                link  \\\n",
       "0        https://en.wikipedia.org/wiki/Dipa_Karmakar   \n",
       "1         https://en.wikipedia.org/wiki/Mumtaz_Mahal   \n",
       "2  https://en.wikipedia.org/wiki/Abdul_Latif_(cri...   \n",
       "3  https://en.wikipedia.org/wiki/Sadashiv_Amrapurkar   \n",
       "4   https://en.wikipedia.org/wiki/Zohmingliana_Ralte   \n",
       "\n",
       "                                            location  \\\n",
       "0  (Agartala, Mohanpur, West Tripura, Tripura, 79...   \n",
       "1  (Agra, Uttar Pradesh, 280001, India, (27.17525...   \n",
       "2  (Ahmedabad, Ahmadabad City Taluka, Ahmedabad D...   \n",
       "3  (Ahmednagar, Maharashtra, India, (19.162772500...   \n",
       "4  (Aizawl, Tlangnuam, Aizwal, Mizoram, 796190, I...   \n",
       "\n",
       "                                          point   latitude  longitude  \\\n",
       "0                 (23.8312377, 91.2823821, 0.0)  23.831238  91.282382   \n",
       "1                 (27.1752554, 78.0098161, 0.0)  27.175255  78.009816   \n",
       "2                 (23.0216238, 72.5797068, 0.0)  23.021624  72.579707   \n",
       "3  (19.162772500000003, 74.85802430085195, 0.0)  19.162773  74.858024   \n",
       "4                 (23.7414092, 92.7209297, 0.0)  23.741409  92.720930   \n",
       "\n",
       "   altitude  \n",
       "0       0.0  \n",
       "1       0.0  \n",
       "2       0.0  \n",
       "3       0.0  \n",
       "4       0.0  "
      ]
     },
     "execution_count": 83,
     "metadata": {},
     "output_type": "execute_result"
    }
   ],
   "source": [
    "data.head()"
   ]
  },
  {
   "cell_type": "markdown",
   "metadata": {},
   "source": [
    "Remove unnecessary columns of point, location and altitude and export."
   ]
  },
  {
   "cell_type": "code",
   "execution_count": 86,
   "metadata": {},
   "outputs": [],
   "source": [
    "data = data.drop(columns = ['point', 'location', 'altitude'])\n",
    "data.to_csv(\"F:/Playin/PeopleMap.csv\")"
   ]
  },
  {
   "cell_type": "code",
   "execution_count": 2,
   "metadata": {},
   "outputs": [],
   "source": [
    "import pandas as pd\n",
    "data = pd.read_csv(\"F:/Playin/Narratio/nMap/PeopleMap.csv\")"
   ]
  },
  {
   "cell_type": "code",
   "execution_count": 3,
   "metadata": {},
   "outputs": [
    {
     "data": {
      "text/html": [
       "<div>\n",
       "<style scoped>\n",
       "    .dataframe tbody tr th:only-of-type {\n",
       "        vertical-align: middle;\n",
       "    }\n",
       "\n",
       "    .dataframe tbody tr th {\n",
       "        vertical-align: top;\n",
       "    }\n",
       "\n",
       "    .dataframe thead th {\n",
       "        text-align: right;\n",
       "    }\n",
       "</style>\n",
       "<table border=\"1\" class=\"dataframe\">\n",
       "  <thead>\n",
       "    <tr style=\"text-align: right;\">\n",
       "      <th></th>\n",
       "      <th>Unnamed: 0</th>\n",
       "      <th>City</th>\n",
       "      <th>Person</th>\n",
       "      <th>Number of Views</th>\n",
       "      <th>Description</th>\n",
       "      <th>link</th>\n",
       "      <th>latitude</th>\n",
       "      <th>longitude</th>\n",
       "    </tr>\n",
       "  </thead>\n",
       "  <tbody>\n",
       "    <tr>\n",
       "      <th>0</th>\n",
       "      <td>0</td>\n",
       "      <td>Agartala</td>\n",
       "      <td>Dipa Karmakar</td>\n",
       "      <td>1345973</td>\n",
       "      <td>Dipa Karmakar (born 9 August 1993) is an India...</td>\n",
       "      <td>https://en.wikipedia.org/wiki/Dipa_Karmakar</td>\n",
       "      <td>23.831238</td>\n",
       "      <td>91.282382</td>\n",
       "    </tr>\n",
       "    <tr>\n",
       "      <th>1</th>\n",
       "      <td>1</td>\n",
       "      <td>Agra</td>\n",
       "      <td>Mumtaz Mahal</td>\n",
       "      <td>2758109</td>\n",
       "      <td>Mumtaz Mahal (Persian: ممتاز محل [mumˈt̪aːz mɛ...</td>\n",
       "      <td>https://en.wikipedia.org/wiki/Mumtaz_Mahal</td>\n",
       "      <td>27.175255</td>\n",
       "      <td>78.009816</td>\n",
       "    </tr>\n",
       "    <tr>\n",
       "      <th>2</th>\n",
       "      <td>2</td>\n",
       "      <td>Ahmedabad</td>\n",
       "      <td>Abdul Latif (criminal)</td>\n",
       "      <td>2087052</td>\n",
       "      <td>Abdul Latif was an underworld figure in Gujara...</td>\n",
       "      <td>https://en.wikipedia.org/wiki/Abdul_Latif_(cri...</td>\n",
       "      <td>23.021624</td>\n",
       "      <td>72.579707</td>\n",
       "    </tr>\n",
       "    <tr>\n",
       "      <th>3</th>\n",
       "      <td>3</td>\n",
       "      <td>Ahmednagar</td>\n",
       "      <td>Sadashiv Amrapurkar</td>\n",
       "      <td>925429</td>\n",
       "      <td>Sadashiv Dattaray Amrapurkar (11 May 1950 – 3 ...</td>\n",
       "      <td>https://en.wikipedia.org/wiki/Sadashiv_Amrapurkar</td>\n",
       "      <td>19.162773</td>\n",
       "      <td>74.858024</td>\n",
       "    </tr>\n",
       "    <tr>\n",
       "      <th>4</th>\n",
       "      <td>4</td>\n",
       "      <td>Aizawl</td>\n",
       "      <td>Zohmingliana Ralte</td>\n",
       "      <td>24268</td>\n",
       "      <td>Zohmingliana Ralte (born 2 October 1990) is an...</td>\n",
       "      <td>https://en.wikipedia.org/wiki/Zohmingliana_Ralte</td>\n",
       "      <td>23.741409</td>\n",
       "      <td>92.720930</td>\n",
       "    </tr>\n",
       "    <tr>\n",
       "      <th>...</th>\n",
       "      <td>...</td>\n",
       "      <td>...</td>\n",
       "      <td>...</td>\n",
       "      <td>...</td>\n",
       "      <td>...</td>\n",
       "      <td>...</td>\n",
       "      <td>...</td>\n",
       "      <td>...</td>\n",
       "    </tr>\n",
       "    <tr>\n",
       "      <th>191</th>\n",
       "      <td>191</td>\n",
       "      <td>Mumbai</td>\n",
       "      <td>Teji Bachchan</td>\n",
       "      <td>1019666</td>\n",
       "      <td>Teji Harivansh Rai Srivastava Bachchan née Tej...</td>\n",
       "      <td>https://en.wikipedia.org/wiki/Teji_Bachchan</td>\n",
       "      <td>18.938771</td>\n",
       "      <td>72.835335</td>\n",
       "    </tr>\n",
       "    <tr>\n",
       "      <th>192</th>\n",
       "      <td>192</td>\n",
       "      <td>Muvattupuzha</td>\n",
       "      <td>Bhagath Manuel</td>\n",
       "      <td>203847</td>\n",
       "      <td>Bhagath Manuel is an Indian film actor who app...</td>\n",
       "      <td>https://en.wikipedia.org/wiki/Bhagath_Manuel</td>\n",
       "      <td>9.379660</td>\n",
       "      <td>76.780377</td>\n",
       "    </tr>\n",
       "    <tr>\n",
       "      <th>193</th>\n",
       "      <td>193</td>\n",
       "      <td>Muzaffarnagar</td>\n",
       "      <td>Amitabh Thakur</td>\n",
       "      <td>149894</td>\n",
       "      <td>Amitabh Thakur is a 1992 batch Uttar Pradesh c...</td>\n",
       "      <td>https://en.wikipedia.org/wiki/Amitabh_Thakur</td>\n",
       "      <td>29.448006</td>\n",
       "      <td>77.740685</td>\n",
       "    </tr>\n",
       "    <tr>\n",
       "      <th>194</th>\n",
       "      <td>194</td>\n",
       "      <td>Muzaffarpur</td>\n",
       "      <td>Shahbaz Nadeem</td>\n",
       "      <td>227423</td>\n",
       "      <td>Shahbaz Nadeem (born 12 August 1989) is an Ind...</td>\n",
       "      <td>https://en.wikipedia.org/wiki/Shahbaz_Nadeem</td>\n",
       "      <td>26.148658</td>\n",
       "      <td>85.340013</td>\n",
       "    </tr>\n",
       "    <tr>\n",
       "      <th>195</th>\n",
       "      <td>195</td>\n",
       "      <td>Mysore</td>\n",
       "      <td>T. K. V. Desikachar</td>\n",
       "      <td>39846</td>\n",
       "      <td>Tirumalai Krishnamacharya Venkata Desikachar (...</td>\n",
       "      <td>https://en.wikipedia.org/wiki/T._K._V._Desikachar</td>\n",
       "      <td>12.305183</td>\n",
       "      <td>76.655361</td>\n",
       "    </tr>\n",
       "  </tbody>\n",
       "</table>\n",
       "<p>196 rows × 8 columns</p>\n",
       "</div>"
      ],
      "text/plain": [
       "     Unnamed: 0           City                  Person  Number of Views  \\\n",
       "0             0       Agartala           Dipa Karmakar          1345973   \n",
       "1             1           Agra            Mumtaz Mahal          2758109   \n",
       "2             2      Ahmedabad  Abdul Latif (criminal)          2087052   \n",
       "3             3     Ahmednagar     Sadashiv Amrapurkar           925429   \n",
       "4             4         Aizawl      Zohmingliana Ralte            24268   \n",
       "..          ...            ...                     ...              ...   \n",
       "191         191         Mumbai           Teji Bachchan          1019666   \n",
       "192         192   Muvattupuzha          Bhagath Manuel           203847   \n",
       "193         193  Muzaffarnagar          Amitabh Thakur           149894   \n",
       "194         194    Muzaffarpur          Shahbaz Nadeem           227423   \n",
       "195         195         Mysore     T. K. V. Desikachar            39846   \n",
       "\n",
       "                                           Description  \\\n",
       "0    Dipa Karmakar (born 9 August 1993) is an India...   \n",
       "1    Mumtaz Mahal (Persian: ممتاز محل [mumˈt̪aːz mɛ...   \n",
       "2    Abdul Latif was an underworld figure in Gujara...   \n",
       "3    Sadashiv Dattaray Amrapurkar (11 May 1950 – 3 ...   \n",
       "4    Zohmingliana Ralte (born 2 October 1990) is an...   \n",
       "..                                                 ...   \n",
       "191  Teji Harivansh Rai Srivastava Bachchan née Tej...   \n",
       "192  Bhagath Manuel is an Indian film actor who app...   \n",
       "193  Amitabh Thakur is a 1992 batch Uttar Pradesh c...   \n",
       "194  Shahbaz Nadeem (born 12 August 1989) is an Ind...   \n",
       "195  Tirumalai Krishnamacharya Venkata Desikachar (...   \n",
       "\n",
       "                                                  link   latitude  longitude  \n",
       "0          https://en.wikipedia.org/wiki/Dipa_Karmakar  23.831238  91.282382  \n",
       "1           https://en.wikipedia.org/wiki/Mumtaz_Mahal  27.175255  78.009816  \n",
       "2    https://en.wikipedia.org/wiki/Abdul_Latif_(cri...  23.021624  72.579707  \n",
       "3    https://en.wikipedia.org/wiki/Sadashiv_Amrapurkar  19.162773  74.858024  \n",
       "4     https://en.wikipedia.org/wiki/Zohmingliana_Ralte  23.741409  92.720930  \n",
       "..                                                 ...        ...        ...  \n",
       "191        https://en.wikipedia.org/wiki/Teji_Bachchan  18.938771  72.835335  \n",
       "192       https://en.wikipedia.org/wiki/Bhagath_Manuel   9.379660  76.780377  \n",
       "193       https://en.wikipedia.org/wiki/Amitabh_Thakur  29.448006  77.740685  \n",
       "194       https://en.wikipedia.org/wiki/Shahbaz_Nadeem  26.148658  85.340013  \n",
       "195  https://en.wikipedia.org/wiki/T._K._V._Desikachar  12.305183  76.655361  \n",
       "\n",
       "[196 rows x 8 columns]"
      ]
     },
     "execution_count": 3,
     "metadata": {},
     "output_type": "execute_result"
    }
   ],
   "source": [
    "data"
   ]
  },
  {
   "cell_type": "code",
   "execution_count": 7,
   "metadata": {},
   "outputs": [
    {
     "ename": "PageError",
     "evalue": "Page id \"manoj tiwari\" does not match any pages. Try another id!",
     "output_type": "error",
     "traceback": [
      "\u001b[1;31m---------------------------------------------------------------------------\u001b[0m",
      "\u001b[1;31mPageError\u001b[0m                                 Traceback (most recent call last)",
      "\u001b[1;32m<ipython-input-7-86d96a4afebe>\u001b[0m in \u001b[0;36m<module>\u001b[1;34m\u001b[0m\n\u001b[0;32m      1\u001b[0m \u001b[1;32mfor\u001b[0m \u001b[0mi\u001b[0m\u001b[1;33m,\u001b[0m \u001b[0mj\u001b[0m \u001b[1;32min\u001b[0m \u001b[0mdata\u001b[0m\u001b[1;33m.\u001b[0m\u001b[0miterrows\u001b[0m\u001b[1;33m(\u001b[0m\u001b[1;33m)\u001b[0m\u001b[1;33m:\u001b[0m\u001b[1;33m\u001b[0m\u001b[1;33m\u001b[0m\u001b[0m\n\u001b[1;32m----> 2\u001b[1;33m     \u001b[0mj\u001b[0m\u001b[1;33m[\u001b[0m\u001b[1;36m4\u001b[0m\u001b[1;33m]\u001b[0m \u001b[1;33m=\u001b[0m \u001b[0mwikipedia\u001b[0m\u001b[1;33m.\u001b[0m\u001b[0msummary\u001b[0m\u001b[1;33m(\u001b[0m\u001b[0mj\u001b[0m\u001b[1;33m[\u001b[0m\u001b[1;36m2\u001b[0m\u001b[1;33m]\u001b[0m\u001b[1;33m,\u001b[0m \u001b[0msentences\u001b[0m \u001b[1;33m=\u001b[0m \u001b[1;36m3\u001b[0m\u001b[1;33m)\u001b[0m\u001b[1;33m\u001b[0m\u001b[1;33m\u001b[0m\u001b[0m\n\u001b[0m",
      "\u001b[1;32mF:\\Anaconda\\lib\\site-packages\\wikipedia\\util.py\u001b[0m in \u001b[0;36m__call__\u001b[1;34m(self, *args, **kwargs)\u001b[0m\n\u001b[0;32m     26\u001b[0m       \u001b[0mret\u001b[0m \u001b[1;33m=\u001b[0m \u001b[0mself\u001b[0m\u001b[1;33m.\u001b[0m\u001b[0m_cache\u001b[0m\u001b[1;33m[\u001b[0m\u001b[0mkey\u001b[0m\u001b[1;33m]\u001b[0m\u001b[1;33m\u001b[0m\u001b[1;33m\u001b[0m\u001b[0m\n\u001b[0;32m     27\u001b[0m     \u001b[1;32melse\u001b[0m\u001b[1;33m:\u001b[0m\u001b[1;33m\u001b[0m\u001b[1;33m\u001b[0m\u001b[0m\n\u001b[1;32m---> 28\u001b[1;33m       \u001b[0mret\u001b[0m \u001b[1;33m=\u001b[0m \u001b[0mself\u001b[0m\u001b[1;33m.\u001b[0m\u001b[0m_cache\u001b[0m\u001b[1;33m[\u001b[0m\u001b[0mkey\u001b[0m\u001b[1;33m]\u001b[0m \u001b[1;33m=\u001b[0m \u001b[0mself\u001b[0m\u001b[1;33m.\u001b[0m\u001b[0mfn\u001b[0m\u001b[1;33m(\u001b[0m\u001b[1;33m*\u001b[0m\u001b[0margs\u001b[0m\u001b[1;33m,\u001b[0m \u001b[1;33m**\u001b[0m\u001b[0mkwargs\u001b[0m\u001b[1;33m)\u001b[0m\u001b[1;33m\u001b[0m\u001b[1;33m\u001b[0m\u001b[0m\n\u001b[0m\u001b[0;32m     29\u001b[0m \u001b[1;33m\u001b[0m\u001b[0m\n\u001b[0;32m     30\u001b[0m     \u001b[1;32mreturn\u001b[0m \u001b[0mret\u001b[0m\u001b[1;33m\u001b[0m\u001b[1;33m\u001b[0m\u001b[0m\n",
      "\u001b[1;32mF:\\Anaconda\\lib\\site-packages\\wikipedia\\wikipedia.py\u001b[0m in \u001b[0;36msummary\u001b[1;34m(title, sentences, chars, auto_suggest, redirect)\u001b[0m\n\u001b[0;32m    229\u001b[0m   \u001b[1;31m# use auto_suggest and redirect to get the correct article\u001b[0m\u001b[1;33m\u001b[0m\u001b[1;33m\u001b[0m\u001b[1;33m\u001b[0m\u001b[0m\n\u001b[0;32m    230\u001b[0m   \u001b[1;31m# also, use page's error checking to raise DisambiguationError if necessary\u001b[0m\u001b[1;33m\u001b[0m\u001b[1;33m\u001b[0m\u001b[1;33m\u001b[0m\u001b[0m\n\u001b[1;32m--> 231\u001b[1;33m   \u001b[0mpage_info\u001b[0m \u001b[1;33m=\u001b[0m \u001b[0mpage\u001b[0m\u001b[1;33m(\u001b[0m\u001b[0mtitle\u001b[0m\u001b[1;33m,\u001b[0m \u001b[0mauto_suggest\u001b[0m\u001b[1;33m=\u001b[0m\u001b[0mauto_suggest\u001b[0m\u001b[1;33m,\u001b[0m \u001b[0mredirect\u001b[0m\u001b[1;33m=\u001b[0m\u001b[0mredirect\u001b[0m\u001b[1;33m)\u001b[0m\u001b[1;33m\u001b[0m\u001b[1;33m\u001b[0m\u001b[0m\n\u001b[0m\u001b[0;32m    232\u001b[0m   \u001b[0mtitle\u001b[0m \u001b[1;33m=\u001b[0m \u001b[0mpage_info\u001b[0m\u001b[1;33m.\u001b[0m\u001b[0mtitle\u001b[0m\u001b[1;33m\u001b[0m\u001b[1;33m\u001b[0m\u001b[0m\n\u001b[0;32m    233\u001b[0m   \u001b[0mpageid\u001b[0m \u001b[1;33m=\u001b[0m \u001b[0mpage_info\u001b[0m\u001b[1;33m.\u001b[0m\u001b[0mpageid\u001b[0m\u001b[1;33m\u001b[0m\u001b[1;33m\u001b[0m\u001b[0m\n",
      "\u001b[1;32mF:\\Anaconda\\lib\\site-packages\\wikipedia\\wikipedia.py\u001b[0m in \u001b[0;36mpage\u001b[1;34m(title, pageid, auto_suggest, redirect, preload)\u001b[0m\n\u001b[0;32m    274\u001b[0m         \u001b[1;31m# if there is no suggestion or search results, the page doesn't exist\u001b[0m\u001b[1;33m\u001b[0m\u001b[1;33m\u001b[0m\u001b[1;33m\u001b[0m\u001b[0m\n\u001b[0;32m    275\u001b[0m         \u001b[1;32mraise\u001b[0m \u001b[0mPageError\u001b[0m\u001b[1;33m(\u001b[0m\u001b[0mtitle\u001b[0m\u001b[1;33m)\u001b[0m\u001b[1;33m\u001b[0m\u001b[1;33m\u001b[0m\u001b[0m\n\u001b[1;32m--> 276\u001b[1;33m     \u001b[1;32mreturn\u001b[0m \u001b[0mWikipediaPage\u001b[0m\u001b[1;33m(\u001b[0m\u001b[0mtitle\u001b[0m\u001b[1;33m,\u001b[0m \u001b[0mredirect\u001b[0m\u001b[1;33m=\u001b[0m\u001b[0mredirect\u001b[0m\u001b[1;33m,\u001b[0m \u001b[0mpreload\u001b[0m\u001b[1;33m=\u001b[0m\u001b[0mpreload\u001b[0m\u001b[1;33m)\u001b[0m\u001b[1;33m\u001b[0m\u001b[1;33m\u001b[0m\u001b[0m\n\u001b[0m\u001b[0;32m    277\u001b[0m   \u001b[1;32melif\u001b[0m \u001b[0mpageid\u001b[0m \u001b[1;32mis\u001b[0m \u001b[1;32mnot\u001b[0m \u001b[1;32mNone\u001b[0m\u001b[1;33m:\u001b[0m\u001b[1;33m\u001b[0m\u001b[1;33m\u001b[0m\u001b[0m\n\u001b[0;32m    278\u001b[0m     \u001b[1;32mreturn\u001b[0m \u001b[0mWikipediaPage\u001b[0m\u001b[1;33m(\u001b[0m\u001b[0mpageid\u001b[0m\u001b[1;33m=\u001b[0m\u001b[0mpageid\u001b[0m\u001b[1;33m,\u001b[0m \u001b[0mpreload\u001b[0m\u001b[1;33m=\u001b[0m\u001b[0mpreload\u001b[0m\u001b[1;33m)\u001b[0m\u001b[1;33m\u001b[0m\u001b[1;33m\u001b[0m\u001b[0m\n",
      "\u001b[1;32mF:\\Anaconda\\lib\\site-packages\\wikipedia\\wikipedia.py\u001b[0m in \u001b[0;36m__init__\u001b[1;34m(self, title, pageid, redirect, preload, original_title)\u001b[0m\n\u001b[0;32m    297\u001b[0m       \u001b[1;32mraise\u001b[0m \u001b[0mValueError\u001b[0m\u001b[1;33m(\u001b[0m\u001b[1;34m\"Either a title or a pageid must be specified\"\u001b[0m\u001b[1;33m)\u001b[0m\u001b[1;33m\u001b[0m\u001b[1;33m\u001b[0m\u001b[0m\n\u001b[0;32m    298\u001b[0m \u001b[1;33m\u001b[0m\u001b[0m\n\u001b[1;32m--> 299\u001b[1;33m     \u001b[0mself\u001b[0m\u001b[1;33m.\u001b[0m\u001b[0m__load\u001b[0m\u001b[1;33m(\u001b[0m\u001b[0mredirect\u001b[0m\u001b[1;33m=\u001b[0m\u001b[0mredirect\u001b[0m\u001b[1;33m,\u001b[0m \u001b[0mpreload\u001b[0m\u001b[1;33m=\u001b[0m\u001b[0mpreload\u001b[0m\u001b[1;33m)\u001b[0m\u001b[1;33m\u001b[0m\u001b[1;33m\u001b[0m\u001b[0m\n\u001b[0m\u001b[0;32m    300\u001b[0m \u001b[1;33m\u001b[0m\u001b[0m\n\u001b[0;32m    301\u001b[0m     \u001b[1;32mif\u001b[0m \u001b[0mpreload\u001b[0m\u001b[1;33m:\u001b[0m\u001b[1;33m\u001b[0m\u001b[1;33m\u001b[0m\u001b[0m\n",
      "\u001b[1;32mF:\\Anaconda\\lib\\site-packages\\wikipedia\\wikipedia.py\u001b[0m in \u001b[0;36m__load\u001b[1;34m(self, redirect, preload)\u001b[0m\n\u001b[0;32m    343\u001b[0m     \u001b[1;32mif\u001b[0m \u001b[1;34m'missing'\u001b[0m \u001b[1;32min\u001b[0m \u001b[0mpage\u001b[0m\u001b[1;33m:\u001b[0m\u001b[1;33m\u001b[0m\u001b[1;33m\u001b[0m\u001b[0m\n\u001b[0;32m    344\u001b[0m       \u001b[1;32mif\u001b[0m \u001b[0mhasattr\u001b[0m\u001b[1;33m(\u001b[0m\u001b[0mself\u001b[0m\u001b[1;33m,\u001b[0m \u001b[1;34m'title'\u001b[0m\u001b[1;33m)\u001b[0m\u001b[1;33m:\u001b[0m\u001b[1;33m\u001b[0m\u001b[1;33m\u001b[0m\u001b[0m\n\u001b[1;32m--> 345\u001b[1;33m         \u001b[1;32mraise\u001b[0m \u001b[0mPageError\u001b[0m\u001b[1;33m(\u001b[0m\u001b[0mself\u001b[0m\u001b[1;33m.\u001b[0m\u001b[0mtitle\u001b[0m\u001b[1;33m)\u001b[0m\u001b[1;33m\u001b[0m\u001b[1;33m\u001b[0m\u001b[0m\n\u001b[0m\u001b[0;32m    346\u001b[0m       \u001b[1;32melse\u001b[0m\u001b[1;33m:\u001b[0m\u001b[1;33m\u001b[0m\u001b[1;33m\u001b[0m\u001b[0m\n\u001b[0;32m    347\u001b[0m         \u001b[1;32mraise\u001b[0m \u001b[0mPageError\u001b[0m\u001b[1;33m(\u001b[0m\u001b[0mpageid\u001b[0m\u001b[1;33m=\u001b[0m\u001b[0mself\u001b[0m\u001b[1;33m.\u001b[0m\u001b[0mpageid\u001b[0m\u001b[1;33m)\u001b[0m\u001b[1;33m\u001b[0m\u001b[1;33m\u001b[0m\u001b[0m\n",
      "\u001b[1;31mPageError\u001b[0m: Page id \"manoj tiwari\" does not match any pages. Try another id!"
     ]
    }
   ],
   "source": [
    "for i, j in data.iterrows():\n",
    "    j[4] = wikipedia.summary(j[2], sentences = 3)"
   ]
  },
  {
   "cell_type": "code",
   "execution_count": null,
   "metadata": {},
   "outputs": [],
   "source": [
    "data.to_csv(\"F:/Playin/Narratio/nMap/PeopleMap.csv\")"
   ]
  },
  {
   "cell_type": "code",
   "execution_count": null,
   "metadata": {},
   "outputs": [],
   "source": []
  }
 ],
 "metadata": {
  "kernelspec": {
   "display_name": "Python 3",
   "language": "python",
   "name": "python3"
  },
  "language_info": {
   "codemirror_mode": {
    "name": "ipython",
    "version": 3
   },
   "file_extension": ".py",
   "mimetype": "text/x-python",
   "name": "python",
   "nbconvert_exporter": "python",
   "pygments_lexer": "ipython3",
   "version": "3.7.6"
  }
 },
 "nbformat": 4,
 "nbformat_minor": 4
}
